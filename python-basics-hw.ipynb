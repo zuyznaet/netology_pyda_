{
 "cells": [
  {
   "cell_type": "markdown",
   "metadata": {},
   "source": [
    "**Задание 1**. Даны 2 строки: *long_phrase* и *short_phrase*. \n",
    "Напишите код, который проверяет действительно ли длинная фраза *long_phrase* длиннее короткой *short_phrase*. И выводит *True* или *False* в зависимости от результата сравнения."
   ]
  },
  {
   "cell_type": "code",
   "execution_count": 2,
   "metadata": {},
   "outputs": [
    {
     "data": {
      "text/plain": [
       "True"
      ]
     },
     "execution_count": 2,
     "metadata": {},
     "output_type": "execute_result"
    }
   ],
   "source": [
    "long_phrase = 'Насколько проще было бы писать программы, если бы не заказчики'\n",
    "short_phrase = '640Кб должно хватить для любых задач. Билл Гейтс (по легенде)'\n",
    "len(long_phrase) > len (short_phrase)"
   ]
  },
  {
   "cell_type": "markdown",
   "metadata": {},
   "source": [
    "**Задание 2**. Дано значение объема файла в байтах. Напишите перевод этого значения в мегабайты в формате: \"*Объем файла равен 213.68Mb*\""
   ]
  },
  {
   "cell_type": "code",
   "execution_count": 12,
   "metadata": {},
   "outputs": [
    {
     "name": "stdout",
     "output_type": "stream",
     "text": [
      "Объем файла равен  9 . 784 Mb\n"
     ]
    }
   ],
   "source": [
    "size = 10000\n",
    "\n",
    "mb = size//1024\n",
    "\n",
    "ost = size % 1024\n",
    "\n",
    "print ('Объем файла равен ',mb,'.',ost,'Mb')"
   ]
  },
  {
   "cell_type": "markdown",
   "metadata": {},
   "source": [
    "**Задание 3**. Разработать приложение для определения знака зодиака по дате рождения. Пример:\n",
    "\n",
    "Введите месяц: март\n",
    "\n",
    "Введите число: 6\n",
    "\n",
    "Вывод:\n",
    "Рыбы"
   ]
  },
  {
   "cell_type": "code",
   "execution_count": 35,
   "metadata": {},
   "outputs": [
    {
     "name": "stdout",
     "output_type": "stream",
     "text": [
      "Enter date 4\n",
      "Enter month 6\n",
      "bliznec\n"
     ]
    }
   ],
   "source": [
    "date = int(input ('Enter date '))\n",
    "month = int(input('Enter month '))\n",
    "    \n",
    "if (month == 12 and date >= 22) or (month == 1 and date <=19):\n",
    "    print('koz')\n",
    "elif (month == 1 and date >= 20) or (month == 2 and date <=18):\n",
    "    print('vodo')\n",
    "elif (month == 2 and date >= 19) or (month == 3 and date <=20):\n",
    "    print ('riba')\n",
    "elif (month == 3 and date >= 21) or (month == 4 and date <=20):\n",
    "    print('oven')\n",
    "elif (month == 4 and date >= 21) or (month == 5 and date <=20):\n",
    "    print('teles')\n",
    "elif (month == 5 and date >= 21) or (month == 6 and date <=20):\n",
    "    print('bliznec')\n",
    "elif (month == 6 and date >= 21) or (month == 7 and date <=22):\n",
    "    print('rak')\n",
    "elif (month == 7 and date >= 23) or (month == 8 and date <=22):\n",
    "    print('leo')\n",
    "elif (month == 8 and date >= 23) or (month == 9 and date <=23):\n",
    "    print ('deva')\n",
    "elif (month == 10 and date >= 24) or (month == 11 and date <=21):\n",
    "    print('scorp')\n",
    "elif (month == 11 and date >= 22) or (month == 12 and date <=21):\n",
    "    print ('')"
   ]
  },
  {
   "cell_type": "markdown",
   "metadata": {},
   "source": [
    "**Задание 4**. Нужно разработать приложение для финансового планирования.\n",
    "Приложение учитывает сколько уходит на ипотеку, \"на жизнь\" и сколько нужно отложить на пенсию.\n",
    "Пользователь вводит:\n",
    "- заработанную плату в месяц.\n",
    "- сколько процентов от ЗП уходит на ипотеку.\n",
    "- сколько процентов от ЗП уходит \"на жизнь\".\n",
    "- сколько раз приходит премия в год.\n",
    "\n",
    "Остальная часть заработанной платы откладывается на пенсию.\n",
    "\n",
    "Также пользователю приходит премия в размере зарплаты, от которой половина уходит на отпуск, а вторая половина откладывается.\n",
    "\n",
    "Программа должна учитывать сколько премий было в год.\n",
    "\n",
    "Нужно вывести сколько денег тратит пользователь на ипотеку и сколько он накопит за год.\n",
    "\n",
    "Пример:\n",
    "\n",
    "Введите заработанную плату в месяц: 100000\n",
    "\n",
    "Введите сколько процентов уходит на ипотеку: 30\n",
    "\n",
    "Введите сколько процентов уходит на жизнь: 50\n",
    "\n",
    "Введите количество премий за год: 2\n",
    "\n",
    "Вывод:\n",
    "На ипотеку было потрачено: 360000 рублей\n",
    "Было накоплено: 340000 рублей"
   ]
  },
  {
   "cell_type": "code",
   "execution_count": 5,
   "metadata": {},
   "outputs": [
    {
     "name": "stdout",
     "output_type": "stream",
     "text": [
      "enter salary = 100000\n",
      "enter % from salary for mortgage 0.2\n",
      "enter % from salary for living 0.2\n",
      "Count of bonuses per year 1\n",
      "Salary total 1200000\n",
      "Spend total  240000.0\n"
     ]
    }
   ],
   "source": [
    "salary = int(input('enter salary = '))\n",
    "for_mort = float(input('enter % from salary for mortgage '))\n",
    "for_living = float(input('enter % from salary for living '))\n",
    "bonus_c = int(input('Count of bonuses per year '))\n",
    "\n",
    "total = salary*12 \n",
    "total_bonus = total + (salary/2*bonus_c)\n",
    "spend = total*for_mort\n",
    "pension = total_bonus - spend\n",
    "\n",
    "print('Salary total', total)\n",
    "print('Spend total ', spend)"
   ]
  },
  {
   "cell_type": "code",
   "execution_count": null,
   "metadata": {},
   "outputs": [],
   "source": []
  },
  {
   "cell_type": "code",
   "execution_count": null,
   "metadata": {},
   "outputs": [],
   "source": []
  }
 ],
 "metadata": {
  "kernelspec": {
   "display_name": "Python 3",
   "language": "python",
   "name": "python3"
  }
 },
 "nbformat": 4,
 "nbformat_minor": 2
}
